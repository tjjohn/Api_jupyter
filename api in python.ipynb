{
 "cells": [
  {
   "cell_type": "code",
   "execution_count": 1,
   "metadata": {},
   "outputs": [],
   "source": [
    " import requests"
   ]
  },
  {
   "cell_type": "code",
   "execution_count": 2,
   "metadata": {},
   "outputs": [],
   "source": [
    " result=requests.get('https://reqres.in/api/users?page=2')"
   ]
  },
  {
   "cell_type": "code",
   "execution_count": 3,
   "metadata": {},
   "outputs": [
    {
     "data": {
      "text/plain": [
       "200"
      ]
     },
     "execution_count": 3,
     "metadata": {},
     "output_type": "execute_result"
    }
   ],
   "source": [
    "result.status_code"
   ]
  },
  {
   "cell_type": "code",
   "execution_count": 4,
   "metadata": {},
   "outputs": [
    {
     "data": {
      "text/plain": [
       "'{\"page\":2,\"per_page\":6,\"total\":12,\"total_pages\":2,\"data\":[{\"id\":7,\"email\":\"michael.lawson@reqres.in\",\"first_name\":\"Michael\",\"last_name\":\"Lawson\",\"avatar\":\"https://reqres.in/img/faces/7-image.jpg\"},{\"id\":8,\"email\":\"lindsay.ferguson@reqres.in\",\"first_name\":\"Lindsay\",\"last_name\":\"Ferguson\",\"avatar\":\"https://reqres.in/img/faces/8-image.jpg\"},{\"id\":9,\"email\":\"tobias.funke@reqres.in\",\"first_name\":\"Tobias\",\"last_name\":\"Funke\",\"avatar\":\"https://reqres.in/img/faces/9-image.jpg\"},{\"id\":10,\"email\":\"byron.fields@reqres.in\",\"first_name\":\"Byron\",\"last_name\":\"Fields\",\"avatar\":\"https://reqres.in/img/faces/10-image.jpg\"},{\"id\":11,\"email\":\"george.edwards@reqres.in\",\"first_name\":\"George\",\"last_name\":\"Edwards\",\"avatar\":\"https://reqres.in/img/faces/11-image.jpg\"},{\"id\":12,\"email\":\"rachel.howell@reqres.in\",\"first_name\":\"Rachel\",\"last_name\":\"Howell\",\"avatar\":\"https://reqres.in/img/faces/12-image.jpg\"}],\"support\":{\"url\":\"https://reqres.in/#support-heading\",\"text\":\"To keep ReqRes free, contributions towards server costs are appreciated!\"}}'"
      ]
     },
     "execution_count": 4,
     "metadata": {},
     "output_type": "execute_result"
    }
   ],
   "source": [
    "result.text"
   ]
  },
  {
   "cell_type": "code",
   "execution_count": 5,
   "metadata": {},
   "outputs": [
    {
     "data": {
      "text/plain": [
       "{'page': 2,\n",
       " 'per_page': 6,\n",
       " 'total': 12,\n",
       " 'total_pages': 2,\n",
       " 'data': [{'id': 7,\n",
       "   'email': 'michael.lawson@reqres.in',\n",
       "   'first_name': 'Michael',\n",
       "   'last_name': 'Lawson',\n",
       "   'avatar': 'https://reqres.in/img/faces/7-image.jpg'},\n",
       "  {'id': 8,\n",
       "   'email': 'lindsay.ferguson@reqres.in',\n",
       "   'first_name': 'Lindsay',\n",
       "   'last_name': 'Ferguson',\n",
       "   'avatar': 'https://reqres.in/img/faces/8-image.jpg'},\n",
       "  {'id': 9,\n",
       "   'email': 'tobias.funke@reqres.in',\n",
       "   'first_name': 'Tobias',\n",
       "   'last_name': 'Funke',\n",
       "   'avatar': 'https://reqres.in/img/faces/9-image.jpg'},\n",
       "  {'id': 10,\n",
       "   'email': 'byron.fields@reqres.in',\n",
       "   'first_name': 'Byron',\n",
       "   'last_name': 'Fields',\n",
       "   'avatar': 'https://reqres.in/img/faces/10-image.jpg'},\n",
       "  {'id': 11,\n",
       "   'email': 'george.edwards@reqres.in',\n",
       "   'first_name': 'George',\n",
       "   'last_name': 'Edwards',\n",
       "   'avatar': 'https://reqres.in/img/faces/11-image.jpg'},\n",
       "  {'id': 12,\n",
       "   'email': 'rachel.howell@reqres.in',\n",
       "   'first_name': 'Rachel',\n",
       "   'last_name': 'Howell',\n",
       "   'avatar': 'https://reqres.in/img/faces/12-image.jpg'}],\n",
       " 'support': {'url': 'https://reqres.in/#support-heading',\n",
       "  'text': 'To keep ReqRes free, contributions towards server costs are appreciated!'}}"
      ]
     },
     "execution_count": 5,
     "metadata": {},
     "output_type": "execute_result"
    }
   ],
   "source": [
    " result.json()"
   ]
  },
  {
   "cell_type": "code",
   "execution_count": null,
   "metadata": {},
   "outputs": [],
   "source": []
  }
 ],
 "metadata": {
  "kernelspec": {
   "display_name": "Python 3",
   "language": "python",
   "name": "python3"
  },
  "language_info": {
   "codemirror_mode": {
    "name": "ipython",
    "version": 3
   },
   "file_extension": ".py",
   "mimetype": "text/x-python",
   "name": "python",
   "nbconvert_exporter": "python",
   "pygments_lexer": "ipython3",
   "version": "3.7.3"
  }
 },
 "nbformat": 4,
 "nbformat_minor": 2
}
